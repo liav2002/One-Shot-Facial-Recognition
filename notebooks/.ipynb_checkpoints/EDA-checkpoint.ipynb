{
 "cells": [
  {
   "cell_type": "markdown",
   "id": "abb63a4a-79fb-4ba6-843b-7af18e94174b",
   "metadata": {},
   "source": [
    "# Import Libraries"
   ]
  },
  {
   "cell_type": "code",
   "execution_count": 1,
   "id": "62e78ef4-c9ae-43f3-a18d-157a9c8496f8",
   "metadata": {},
   "outputs": [],
   "source": [
    "import os\n",
    "import matplotlib.pyplot as plt\n",
    "from collections import Counter\n",
    "import pandas as pd"
   ]
  },
  {
   "cell_type": "markdown",
   "id": "d4f97f31-5f0a-432f-a0b4-0081e05ccfc5",
   "metadata": {},
   "source": [
    "# Data Path"
   ]
  },
  {
   "cell_type": "code",
   "execution_count": 6,
   "id": "f2e2c75d-8b37-45ee-bf98-d917f7652b80",
   "metadata": {},
   "outputs": [],
   "source": [
    "data_path = '../data/lfw2'"
   ]
  },
  {
   "cell_type": "markdown",
   "id": "51f2f1fd-22e2-44a6-b079-2b62b0970088",
   "metadata": {},
   "source": [
    "# Load Dataset"
   ]
  },
  {
   "cell_type": "markdown",
   "id": "f71011bc-ae3c-4abe-b295-0678efa0b00a",
   "metadata": {},
   "source": [
    "## Function to load dataset information"
   ]
  },
  {
   "cell_type": "code",
   "execution_count": 7,
   "id": "2442a646-796c-4bad-8767-8511532a3191",
   "metadata": {},
   "outputs": [],
   "source": [
    "def load_dataset_info(data_path):\n",
    "    dataset_info = []\n",
    "    for person_name in os.listdir(data_path):\n",
    "        person_dir = os.path.join(data_path, person_name)\n",
    "        if os.path.isdir(person_dir):\n",
    "            images = os.listdir(person_dir)\n",
    "            for image in images:\n",
    "                dataset_info.append({\"person\": person_name, \"image_path\": os.path.join(person_dir, image)})\n",
    "    return pd.DataFrame(dataset_info)"
   ]
  },
  {
   "cell_type": "markdown",
   "id": "428b91da-3069-4d15-ae04-949fdbaa73c2",
   "metadata": {},
   "source": [
    "## Use the funciton to load dataset"
   ]
  },
  {
   "cell_type": "code",
   "execution_count": 8,
   "id": "aac55f9a-5442-4127-a9a6-ece3e3cdf493",
   "metadata": {},
   "outputs": [
    {
     "ename": "FileNotFoundError",
     "evalue": "[WinError 3] The system cannot find the path specified: './data/lfw2'",
     "output_type": "error",
     "traceback": [
      "\u001b[1;31m---------------------------------------------------------------------------\u001b[0m",
      "\u001b[1;31mFileNotFoundError\u001b[0m                         Traceback (most recent call last)",
      "Cell \u001b[1;32mIn [8], line 1\u001b[0m\n\u001b[1;32m----> 1\u001b[0m dataset_df \u001b[38;5;241m=\u001b[39m \u001b[43mload_dataset_info\u001b[49m\u001b[43m(\u001b[49m\u001b[43mdata_path\u001b[49m\u001b[43m)\u001b[49m\n",
      "Cell \u001b[1;32mIn [7], line 3\u001b[0m, in \u001b[0;36mload_dataset_info\u001b[1;34m(data_path)\u001b[0m\n\u001b[0;32m      1\u001b[0m \u001b[38;5;28;01mdef\u001b[39;00m \u001b[38;5;21mload_dataset_info\u001b[39m(data_path):\n\u001b[0;32m      2\u001b[0m     dataset_info \u001b[38;5;241m=\u001b[39m []\n\u001b[1;32m----> 3\u001b[0m     \u001b[38;5;28;01mfor\u001b[39;00m person_name \u001b[38;5;129;01min\u001b[39;00m \u001b[43mos\u001b[49m\u001b[38;5;241;43m.\u001b[39;49m\u001b[43mlistdir\u001b[49m\u001b[43m(\u001b[49m\u001b[43mdata_path\u001b[49m\u001b[43m)\u001b[49m:\n\u001b[0;32m      4\u001b[0m         person_dir \u001b[38;5;241m=\u001b[39m os\u001b[38;5;241m.\u001b[39mpath\u001b[38;5;241m.\u001b[39mjoin(data_path, person_name)\n\u001b[0;32m      5\u001b[0m         \u001b[38;5;28;01mif\u001b[39;00m os\u001b[38;5;241m.\u001b[39mpath\u001b[38;5;241m.\u001b[39misdir(person_dir):\n",
      "\u001b[1;31mFileNotFoundError\u001b[0m: [WinError 3] The system cannot find the path specified: './data/lfw2'"
     ]
    }
   ],
   "source": [
    "dataset_df = load_dataset_info(data_path)"
   ]
  },
  {
   "cell_type": "code",
   "execution_count": null,
   "id": "2c4fdefa-4a00-4269-bead-61396a4b9c1f",
   "metadata": {},
   "outputs": [],
   "source": []
  }
 ],
 "metadata": {
  "kernelspec": {
   "display_name": "Python 3 (ipykernel)",
   "language": "python",
   "name": "python3"
  },
  "language_info": {
   "codemirror_mode": {
    "name": "ipython",
    "version": 3
   },
   "file_extension": ".py",
   "mimetype": "text/x-python",
   "name": "python",
   "nbconvert_exporter": "python",
   "pygments_lexer": "ipython3",
   "version": "3.9.2"
  }
 },
 "nbformat": 4,
 "nbformat_minor": 5
}
